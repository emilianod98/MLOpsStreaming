{
 "cells": [
  {
   "attachments": {},
   "cell_type": "markdown",
   "metadata": {},
   "source": [
    "<style>\n",
    ".brown {\n",
    "    color: #9c6644;\n",
    "    font-weight:700;\n",
    "    font-size: 40px;\n",
    "    text-align: button;\n",
    "    padding: 0;\n",
    "    margin: 0;\n",
    "}\n",
    "</style>\n",
    "<style>\n",
    ".light-brown {\n",
    "    color: #a78a7f;\n",
    "    font-weight:700;\n",
    "    font-size: 25px;\n",
    "    text-align: top;\n",
    "    padding: 0;\n",
    "    margin: 0;\n",
    "}\n",
    "</style>\n",
    "<style>\n",
    ".linea {\n",
    "  border-top: 2px solid #9c6644;\n",
    "  height: 2px;\n",
    "  max-width: 535px;\n",
    "  padding: 10;\n",
    "  margin: 10;\n",
    "}\n",
    "</style>\n",
    "<p class=\"brown\">\n",
    "    PROJECT MLOps STREAMING\n",
    "</p>\n",
    "\n",
    "<div class=\"linea\"></div>\n",
    "\n",
    "<p class=\"light-brown\">\n",
    "    DATA VISUALIZATION\n",
    "</p>"
   ]
  },
  {
   "attachments": {},
   "cell_type": "markdown",
   "metadata": {},
   "source": [
    "<style>\n",
    ".light-brown {\n",
    "    color: #a78a7f;\n",
    "    font-weight:700;\n",
    "    font-size: 20px;\n",
    "    text-align: top;\n",
    "    padding: 0;\n",
    "    margin-top: 40px;\n",
    "}\n",
    "</style>\n",
    "<p class=\"light-brown\">\n",
    "    LOAD THE DATASET\n",
    "</p>"
   ]
  },
  {
   "cell_type": "code",
   "execution_count": 2,
   "metadata": {},
   "outputs": [
    {
     "data": {
      "text/html": [
       "<div>\n",
       "<style scoped>\n",
       "    .dataframe tbody tr th:only-of-type {\n",
       "        vertical-align: middle;\n",
       "    }\n",
       "\n",
       "    .dataframe tbody tr th {\n",
       "        vertical-align: top;\n",
       "    }\n",
       "\n",
       "    .dataframe thead th {\n",
       "        text-align: right;\n",
       "    }\n",
       "</style>\n",
       "<table border=\"1\" class=\"dataframe\">\n",
       "  <thead>\n",
       "    <tr style=\"text-align: right;\">\n",
       "      <th></th>\n",
       "      <th>userId</th>\n",
       "      <th>score</th>\n",
       "      <th>id</th>\n",
       "      <th>platform</th>\n",
       "      <th>title</th>\n",
       "      <th>director</th>\n",
       "      <th>cast</th>\n",
       "      <th>country</th>\n",
       "      <th>date_added</th>\n",
       "      <th>release_year</th>\n",
       "      <th>rating</th>\n",
       "      <th>listed_in</th>\n",
       "      <th>duration_int</th>\n",
       "      <th>duration_type</th>\n",
       "    </tr>\n",
       "  </thead>\n",
       "  <tbody>\n",
       "    <tr>\n",
       "      <th>0</th>\n",
       "      <td>1</td>\n",
       "      <td>1.0</td>\n",
       "      <td>as680</td>\n",
       "      <td>amazon prime</td>\n",
       "      <td>the english civil war</td>\n",
       "      <td>no data</td>\n",
       "      <td>robert whelan</td>\n",
       "      <td>no data</td>\n",
       "      <td>NaT</td>\n",
       "      <td>1970</td>\n",
       "      <td>pg-13</td>\n",
       "      <td>documentary, special interest</td>\n",
       "      <td>1</td>\n",
       "      <td>season</td>\n",
       "    </tr>\n",
       "    <tr>\n",
       "      <th>1</th>\n",
       "      <td>583</td>\n",
       "      <td>4.5</td>\n",
       "      <td>as680</td>\n",
       "      <td>amazon prime</td>\n",
       "      <td>the english civil war</td>\n",
       "      <td>no data</td>\n",
       "      <td>robert whelan</td>\n",
       "      <td>no data</td>\n",
       "      <td>NaT</td>\n",
       "      <td>1970</td>\n",
       "      <td>pg-13</td>\n",
       "      <td>documentary, special interest</td>\n",
       "      <td>1</td>\n",
       "      <td>season</td>\n",
       "    </tr>\n",
       "    <tr>\n",
       "      <th>2</th>\n",
       "      <td>765</td>\n",
       "      <td>5.0</td>\n",
       "      <td>as680</td>\n",
       "      <td>amazon prime</td>\n",
       "      <td>the english civil war</td>\n",
       "      <td>no data</td>\n",
       "      <td>robert whelan</td>\n",
       "      <td>no data</td>\n",
       "      <td>NaT</td>\n",
       "      <td>1970</td>\n",
       "      <td>pg-13</td>\n",
       "      <td>documentary, special interest</td>\n",
       "      <td>1</td>\n",
       "      <td>season</td>\n",
       "    </tr>\n",
       "    <tr>\n",
       "      <th>3</th>\n",
       "      <td>2116</td>\n",
       "      <td>3.0</td>\n",
       "      <td>as680</td>\n",
       "      <td>amazon prime</td>\n",
       "      <td>the english civil war</td>\n",
       "      <td>no data</td>\n",
       "      <td>robert whelan</td>\n",
       "      <td>no data</td>\n",
       "      <td>NaT</td>\n",
       "      <td>1970</td>\n",
       "      <td>pg-13</td>\n",
       "      <td>documentary, special interest</td>\n",
       "      <td>1</td>\n",
       "      <td>season</td>\n",
       "    </tr>\n",
       "    <tr>\n",
       "      <th>4</th>\n",
       "      <td>2143</td>\n",
       "      <td>3.0</td>\n",
       "      <td>as680</td>\n",
       "      <td>amazon prime</td>\n",
       "      <td>the english civil war</td>\n",
       "      <td>no data</td>\n",
       "      <td>robert whelan</td>\n",
       "      <td>no data</td>\n",
       "      <td>NaT</td>\n",
       "      <td>1970</td>\n",
       "      <td>pg-13</td>\n",
       "      <td>documentary, special interest</td>\n",
       "      <td>1</td>\n",
       "      <td>season</td>\n",
       "    </tr>\n",
       "    <tr>\n",
       "      <th>...</th>\n",
       "      <td>...</td>\n",
       "      <td>...</td>\n",
       "      <td>...</td>\n",
       "      <td>...</td>\n",
       "      <td>...</td>\n",
       "      <td>...</td>\n",
       "      <td>...</td>\n",
       "      <td>...</td>\n",
       "      <td>...</td>\n",
       "      <td>...</td>\n",
       "      <td>...</td>\n",
       "      <td>...</td>\n",
       "      <td>...</td>\n",
       "      <td>...</td>\n",
       "    </tr>\n",
       "    <tr>\n",
       "      <th>11024319</th>\n",
       "      <td>123886</td>\n",
       "      <td>3.5</td>\n",
       "      <td>ns720</td>\n",
       "      <td>netflix</td>\n",
       "      <td>power rangers dino fury</td>\n",
       "      <td>no data</td>\n",
       "      <td>russell curry, hunter deno, kai moya, tessa ra...</td>\n",
       "      <td>united states</td>\n",
       "      <td>2021-06-15</td>\n",
       "      <td>1970</td>\n",
       "      <td>tv-g</td>\n",
       "      <td>kids' tv</td>\n",
       "      <td>1</td>\n",
       "      <td>season</td>\n",
       "    </tr>\n",
       "    <tr>\n",
       "      <th>11024320</th>\n",
       "      <td>123923</td>\n",
       "      <td>3.5</td>\n",
       "      <td>ns720</td>\n",
       "      <td>hulu</td>\n",
       "      <td>mlk/fbi</td>\n",
       "      <td>no data</td>\n",
       "      <td>no data</td>\n",
       "      <td>no data</td>\n",
       "      <td>2021-05-14</td>\n",
       "      <td>1970</td>\n",
       "      <td>tv-g</td>\n",
       "      <td>black stories, documentaries</td>\n",
       "      <td>106</td>\n",
       "      <td>min</td>\n",
       "    </tr>\n",
       "    <tr>\n",
       "      <th>11024321</th>\n",
       "      <td>123923</td>\n",
       "      <td>3.5</td>\n",
       "      <td>ns720</td>\n",
       "      <td>netflix</td>\n",
       "      <td>power rangers dino fury</td>\n",
       "      <td>no data</td>\n",
       "      <td>russell curry, hunter deno, kai moya, tessa ra...</td>\n",
       "      <td>united states</td>\n",
       "      <td>2021-06-15</td>\n",
       "      <td>1970</td>\n",
       "      <td>tv-g</td>\n",
       "      <td>kids' tv</td>\n",
       "      <td>1</td>\n",
       "      <td>season</td>\n",
       "    </tr>\n",
       "    <tr>\n",
       "      <th>11024322</th>\n",
       "      <td>124006</td>\n",
       "      <td>3.0</td>\n",
       "      <td>ns720</td>\n",
       "      <td>hulu</td>\n",
       "      <td>mlk/fbi</td>\n",
       "      <td>no data</td>\n",
       "      <td>no data</td>\n",
       "      <td>no data</td>\n",
       "      <td>2021-05-14</td>\n",
       "      <td>1970</td>\n",
       "      <td>tv-g</td>\n",
       "      <td>black stories, documentaries</td>\n",
       "      <td>106</td>\n",
       "      <td>min</td>\n",
       "    </tr>\n",
       "    <tr>\n",
       "      <th>11024323</th>\n",
       "      <td>124006</td>\n",
       "      <td>3.0</td>\n",
       "      <td>ns720</td>\n",
       "      <td>netflix</td>\n",
       "      <td>power rangers dino fury</td>\n",
       "      <td>no data</td>\n",
       "      <td>russell curry, hunter deno, kai moya, tessa ra...</td>\n",
       "      <td>united states</td>\n",
       "      <td>2021-06-15</td>\n",
       "      <td>1970</td>\n",
       "      <td>tv-g</td>\n",
       "      <td>kids' tv</td>\n",
       "      <td>1</td>\n",
       "      <td>season</td>\n",
       "    </tr>\n",
       "  </tbody>\n",
       "</table>\n",
       "<p>11024324 rows × 14 columns</p>\n",
       "</div>"
      ],
      "text/plain": [
       "          userId  score     id      platform                    title  \\\n",
       "0              1    1.0  as680  amazon prime    the english civil war   \n",
       "1            583    4.5  as680  amazon prime    the english civil war   \n",
       "2            765    5.0  as680  amazon prime    the english civil war   \n",
       "3           2116    3.0  as680  amazon prime    the english civil war   \n",
       "4           2143    3.0  as680  amazon prime    the english civil war   \n",
       "...          ...    ...    ...           ...                      ...   \n",
       "11024319  123886    3.5  ns720       netflix  power rangers dino fury   \n",
       "11024320  123923    3.5  ns720          hulu                  mlk/fbi   \n",
       "11024321  123923    3.5  ns720       netflix  power rangers dino fury   \n",
       "11024322  124006    3.0  ns720          hulu                  mlk/fbi   \n",
       "11024323  124006    3.0  ns720       netflix  power rangers dino fury   \n",
       "\n",
       "         director                                               cast  \\\n",
       "0         no data                                      robert whelan   \n",
       "1         no data                                      robert whelan   \n",
       "2         no data                                      robert whelan   \n",
       "3         no data                                      robert whelan   \n",
       "4         no data                                      robert whelan   \n",
       "...           ...                                                ...   \n",
       "11024319  no data  russell curry, hunter deno, kai moya, tessa ra...   \n",
       "11024320  no data                                            no data   \n",
       "11024321  no data  russell curry, hunter deno, kai moya, tessa ra...   \n",
       "11024322  no data                                            no data   \n",
       "11024323  no data  russell curry, hunter deno, kai moya, tessa ra...   \n",
       "\n",
       "                country date_added  release_year rating  \\\n",
       "0               no data        NaT          1970  pg-13   \n",
       "1               no data        NaT          1970  pg-13   \n",
       "2               no data        NaT          1970  pg-13   \n",
       "3               no data        NaT          1970  pg-13   \n",
       "4               no data        NaT          1970  pg-13   \n",
       "...                 ...        ...           ...    ...   \n",
       "11024319  united states 2021-06-15          1970   tv-g   \n",
       "11024320        no data 2021-05-14          1970   tv-g   \n",
       "11024321  united states 2021-06-15          1970   tv-g   \n",
       "11024322        no data 2021-05-14          1970   tv-g   \n",
       "11024323  united states 2021-06-15          1970   tv-g   \n",
       "\n",
       "                              listed_in  duration_int duration_type  \n",
       "0         documentary, special interest             1        season  \n",
       "1         documentary, special interest             1        season  \n",
       "2         documentary, special interest             1        season  \n",
       "3         documentary, special interest             1        season  \n",
       "4         documentary, special interest             1        season  \n",
       "...                                 ...           ...           ...  \n",
       "11024319                       kids' tv             1        season  \n",
       "11024320   black stories, documentaries           106           min  \n",
       "11024321                       kids' tv             1        season  \n",
       "11024322   black stories, documentaries           106           min  \n",
       "11024323                       kids' tv             1        season  \n",
       "\n",
       "[11024324 rows x 14 columns]"
      ]
     },
     "execution_count": 2,
     "metadata": {},
     "output_type": "execute_result"
    }
   ],
   "source": [
    "# Import the libraries.\n",
    "import numpy as np  \n",
    "import pandas as pd\n",
    "import matplotlib.pyplot as plt\n",
    "import matplotlib.image as mpimg\n",
    "plt.style.use('dark_background')\n",
    "import plotly.express as px\n",
    "import plotly.io as pio\n",
    "\n",
    "\n",
    "# Load the dataset.\n",
    "dfStreamingML = pd.read_parquet('./StreamingML.parquet')\n",
    "\n",
    "# Visualize the dataset. \n",
    "dfStreamingML"
   ]
  },
  {
   "attachments": {},
   "cell_type": "markdown",
   "metadata": {},
   "source": [
    "<style>\n",
    ".linea {\n",
    "  border-top: 2px solid #a78a7f;\n",
    "  height: 2px;\n",
    "  max-width: 2000px;\n",
    "  padding: 10;\n",
    "  margin: 10;\n",
    "}\n",
    "</style>\n",
    "<div class=\"linea\"></div>\n",
    "<div class=\"linea\"></div>\n"
   ]
  },
  {
   "attachments": {},
   "cell_type": "markdown",
   "metadata": {},
   "source": [
    "<style>\n",
    ".light-brown {\n",
    "    color: #a78a7f;\n",
    "    font-weight:700;\n",
    "    font-size: 20px;\n",
    "    text-align: top;\n",
    "    padding: 0;\n",
    "    margin: 0px;\n",
    "}\n",
    "</style>\n",
    "<p class=\"light-brown\">\n",
    "    DATA PREPARATION\n",
    "</p>"
   ]
  },
  {
   "cell_type": "code",
   "execution_count": 3,
   "metadata": {},
   "outputs": [
    {
     "name": "stdout",
     "output_type": "stream",
     "text": [
      "****************************************\n",
      "\n",
      "dfStreamingML: rows (11024324, 14) columns.\n",
      "\n",
      "****************************************\n"
     ]
    }
   ],
   "source": [
    "# See the size of my dataset.\n",
    "print('*'*40)\n",
    "print('')\n",
    "print('dfStreamingML: rows', dfStreamingML.shape, 'columns.')\n",
    "print('')\n",
    "print('*'*40)"
   ]
  },
  {
   "cell_type": "code",
   "execution_count": 4,
   "metadata": {},
   "outputs": [
    {
     "name": "stdout",
     "output_type": "stream",
     "text": [
      "****************************************\n",
      "\n",
      "userId                    int64\n",
      "score                   float64\n",
      "id                       object\n",
      "platform                 object\n",
      "title                    object\n",
      "director                 object\n",
      "cast                     object\n",
      "country                  object\n",
      "date_added       datetime64[ns]\n",
      "release_year              int64\n",
      "rating                   object\n",
      "listed_in                object\n",
      "duration_int              int64\n",
      "duration_type            object\n",
      "dtype: object\n",
      "\n",
      "****************************************\n"
     ]
    }
   ],
   "source": [
    "print('*'*40)\n",
    "print('')\n",
    "print(dfStreamingML.dtypes)\n",
    "print('')\n",
    "print('*'*40)"
   ]
  },
  {
   "cell_type": "code",
   "execution_count": 5,
   "metadata": {},
   "outputs": [
    {
     "name": "stdout",
     "output_type": "stream",
     "text": [
      "****************************************\n",
      "\n",
      "userId                 0\n",
      "score                  0\n",
      "id                     0\n",
      "platform               0\n",
      "title                  0\n",
      "director               0\n",
      "cast                   0\n",
      "country                0\n",
      "date_added       4577425\n",
      "release_year           0\n",
      "rating                 0\n",
      "listed_in              0\n",
      "duration_int           0\n",
      "duration_type      89325\n",
      "dtype: int64\n",
      "\n",
      "****************************************\n"
     ]
    }
   ],
   "source": [
    "# Check for null or missing values.\n",
    "print('*'*40)\n",
    "print('')\n",
    "print(dfStreamingML.isnull().sum())\n",
    "print('')\n",
    "print('*'*40)"
   ]
  },
  {
   "cell_type": "code",
   "execution_count": 6,
   "metadata": {},
   "outputs": [
    {
     "name": "stdout",
     "output_type": "stream",
     "text": [
      "****************************************\n",
      "\n",
      "There are: 28593 duplicate values\n",
      "\n",
      "****************************************\n"
     ]
    }
   ],
   "source": [
    "# Check for duplicate values.\n",
    "print('*'*40)\n",
    "print('')\n",
    "print('There are:', dfStreamingML.duplicated().sum(),'duplicate values')\n",
    "print('')\n",
    "print('*'*40)"
   ]
  },
  {
   "cell_type": "code",
   "execution_count": 7,
   "metadata": {},
   "outputs": [
    {
     "name": "stdout",
     "output_type": "stream",
     "text": [
      "****************************************\n",
      "\n",
      "There are: 0 duplicate values\n",
      "\n",
      "****************************************\n"
     ]
    },
    {
     "data": {
      "text/html": [
       "<div>\n",
       "<style scoped>\n",
       "    .dataframe tbody tr th:only-of-type {\n",
       "        vertical-align: middle;\n",
       "    }\n",
       "\n",
       "    .dataframe tbody tr th {\n",
       "        vertical-align: top;\n",
       "    }\n",
       "\n",
       "    .dataframe thead th {\n",
       "        text-align: right;\n",
       "    }\n",
       "</style>\n",
       "<table border=\"1\" class=\"dataframe\">\n",
       "  <thead>\n",
       "    <tr style=\"text-align: right;\">\n",
       "      <th></th>\n",
       "      <th>userId</th>\n",
       "      <th>score</th>\n",
       "      <th>id</th>\n",
       "      <th>platform</th>\n",
       "      <th>title</th>\n",
       "      <th>director</th>\n",
       "      <th>cast</th>\n",
       "      <th>country</th>\n",
       "      <th>date_added</th>\n",
       "      <th>release_year</th>\n",
       "      <th>rating</th>\n",
       "      <th>listed_in</th>\n",
       "      <th>duration_int</th>\n",
       "      <th>duration_type</th>\n",
       "    </tr>\n",
       "  </thead>\n",
       "  <tbody>\n",
       "    <tr>\n",
       "      <th>0</th>\n",
       "      <td>1</td>\n",
       "      <td>1.0</td>\n",
       "      <td>as680</td>\n",
       "      <td>amazon prime</td>\n",
       "      <td>the english civil war</td>\n",
       "      <td>no data</td>\n",
       "      <td>robert whelan</td>\n",
       "      <td>no data</td>\n",
       "      <td>NaT</td>\n",
       "      <td>1970</td>\n",
       "      <td>pg-13</td>\n",
       "      <td>documentary, special interest</td>\n",
       "      <td>1</td>\n",
       "      <td>season</td>\n",
       "    </tr>\n",
       "    <tr>\n",
       "      <th>1</th>\n",
       "      <td>583</td>\n",
       "      <td>4.5</td>\n",
       "      <td>as680</td>\n",
       "      <td>amazon prime</td>\n",
       "      <td>the english civil war</td>\n",
       "      <td>no data</td>\n",
       "      <td>robert whelan</td>\n",
       "      <td>no data</td>\n",
       "      <td>NaT</td>\n",
       "      <td>1970</td>\n",
       "      <td>pg-13</td>\n",
       "      <td>documentary, special interest</td>\n",
       "      <td>1</td>\n",
       "      <td>season</td>\n",
       "    </tr>\n",
       "    <tr>\n",
       "      <th>2</th>\n",
       "      <td>765</td>\n",
       "      <td>5.0</td>\n",
       "      <td>as680</td>\n",
       "      <td>amazon prime</td>\n",
       "      <td>the english civil war</td>\n",
       "      <td>no data</td>\n",
       "      <td>robert whelan</td>\n",
       "      <td>no data</td>\n",
       "      <td>NaT</td>\n",
       "      <td>1970</td>\n",
       "      <td>pg-13</td>\n",
       "      <td>documentary, special interest</td>\n",
       "      <td>1</td>\n",
       "      <td>season</td>\n",
       "    </tr>\n",
       "    <tr>\n",
       "      <th>3</th>\n",
       "      <td>2116</td>\n",
       "      <td>3.0</td>\n",
       "      <td>as680</td>\n",
       "      <td>amazon prime</td>\n",
       "      <td>the english civil war</td>\n",
       "      <td>no data</td>\n",
       "      <td>robert whelan</td>\n",
       "      <td>no data</td>\n",
       "      <td>NaT</td>\n",
       "      <td>1970</td>\n",
       "      <td>pg-13</td>\n",
       "      <td>documentary, special interest</td>\n",
       "      <td>1</td>\n",
       "      <td>season</td>\n",
       "    </tr>\n",
       "    <tr>\n",
       "      <th>4</th>\n",
       "      <td>2143</td>\n",
       "      <td>3.0</td>\n",
       "      <td>as680</td>\n",
       "      <td>amazon prime</td>\n",
       "      <td>the english civil war</td>\n",
       "      <td>no data</td>\n",
       "      <td>robert whelan</td>\n",
       "      <td>no data</td>\n",
       "      <td>NaT</td>\n",
       "      <td>1970</td>\n",
       "      <td>pg-13</td>\n",
       "      <td>documentary, special interest</td>\n",
       "      <td>1</td>\n",
       "      <td>season</td>\n",
       "    </tr>\n",
       "    <tr>\n",
       "      <th>...</th>\n",
       "      <td>...</td>\n",
       "      <td>...</td>\n",
       "      <td>...</td>\n",
       "      <td>...</td>\n",
       "      <td>...</td>\n",
       "      <td>...</td>\n",
       "      <td>...</td>\n",
       "      <td>...</td>\n",
       "      <td>...</td>\n",
       "      <td>...</td>\n",
       "      <td>...</td>\n",
       "      <td>...</td>\n",
       "      <td>...</td>\n",
       "      <td>...</td>\n",
       "    </tr>\n",
       "    <tr>\n",
       "      <th>10995726</th>\n",
       "      <td>123886</td>\n",
       "      <td>3.5</td>\n",
       "      <td>ns720</td>\n",
       "      <td>netflix</td>\n",
       "      <td>power rangers dino fury</td>\n",
       "      <td>no data</td>\n",
       "      <td>russell curry, hunter deno, kai moya, tessa ra...</td>\n",
       "      <td>united states</td>\n",
       "      <td>2021-06-15</td>\n",
       "      <td>1970</td>\n",
       "      <td>tv-g</td>\n",
       "      <td>kids' tv</td>\n",
       "      <td>1</td>\n",
       "      <td>season</td>\n",
       "    </tr>\n",
       "    <tr>\n",
       "      <th>10995727</th>\n",
       "      <td>123923</td>\n",
       "      <td>3.5</td>\n",
       "      <td>ns720</td>\n",
       "      <td>hulu</td>\n",
       "      <td>mlk/fbi</td>\n",
       "      <td>no data</td>\n",
       "      <td>no data</td>\n",
       "      <td>no data</td>\n",
       "      <td>2021-05-14</td>\n",
       "      <td>1970</td>\n",
       "      <td>tv-g</td>\n",
       "      <td>black stories, documentaries</td>\n",
       "      <td>106</td>\n",
       "      <td>min</td>\n",
       "    </tr>\n",
       "    <tr>\n",
       "      <th>10995728</th>\n",
       "      <td>123923</td>\n",
       "      <td>3.5</td>\n",
       "      <td>ns720</td>\n",
       "      <td>netflix</td>\n",
       "      <td>power rangers dino fury</td>\n",
       "      <td>no data</td>\n",
       "      <td>russell curry, hunter deno, kai moya, tessa ra...</td>\n",
       "      <td>united states</td>\n",
       "      <td>2021-06-15</td>\n",
       "      <td>1970</td>\n",
       "      <td>tv-g</td>\n",
       "      <td>kids' tv</td>\n",
       "      <td>1</td>\n",
       "      <td>season</td>\n",
       "    </tr>\n",
       "    <tr>\n",
       "      <th>10995729</th>\n",
       "      <td>124006</td>\n",
       "      <td>3.0</td>\n",
       "      <td>ns720</td>\n",
       "      <td>hulu</td>\n",
       "      <td>mlk/fbi</td>\n",
       "      <td>no data</td>\n",
       "      <td>no data</td>\n",
       "      <td>no data</td>\n",
       "      <td>2021-05-14</td>\n",
       "      <td>1970</td>\n",
       "      <td>tv-g</td>\n",
       "      <td>black stories, documentaries</td>\n",
       "      <td>106</td>\n",
       "      <td>min</td>\n",
       "    </tr>\n",
       "    <tr>\n",
       "      <th>10995730</th>\n",
       "      <td>124006</td>\n",
       "      <td>3.0</td>\n",
       "      <td>ns720</td>\n",
       "      <td>netflix</td>\n",
       "      <td>power rangers dino fury</td>\n",
       "      <td>no data</td>\n",
       "      <td>russell curry, hunter deno, kai moya, tessa ra...</td>\n",
       "      <td>united states</td>\n",
       "      <td>2021-06-15</td>\n",
       "      <td>1970</td>\n",
       "      <td>tv-g</td>\n",
       "      <td>kids' tv</td>\n",
       "      <td>1</td>\n",
       "      <td>season</td>\n",
       "    </tr>\n",
       "  </tbody>\n",
       "</table>\n",
       "<p>10995731 rows × 14 columns</p>\n",
       "</div>"
      ],
      "text/plain": [
       "          userId  score     id      platform                    title  \\\n",
       "0              1    1.0  as680  amazon prime    the english civil war   \n",
       "1            583    4.5  as680  amazon prime    the english civil war   \n",
       "2            765    5.0  as680  amazon prime    the english civil war   \n",
       "3           2116    3.0  as680  amazon prime    the english civil war   \n",
       "4           2143    3.0  as680  amazon prime    the english civil war   \n",
       "...          ...    ...    ...           ...                      ...   \n",
       "10995726  123886    3.5  ns720       netflix  power rangers dino fury   \n",
       "10995727  123923    3.5  ns720          hulu                  mlk/fbi   \n",
       "10995728  123923    3.5  ns720       netflix  power rangers dino fury   \n",
       "10995729  124006    3.0  ns720          hulu                  mlk/fbi   \n",
       "10995730  124006    3.0  ns720       netflix  power rangers dino fury   \n",
       "\n",
       "         director                                               cast  \\\n",
       "0         no data                                      robert whelan   \n",
       "1         no data                                      robert whelan   \n",
       "2         no data                                      robert whelan   \n",
       "3         no data                                      robert whelan   \n",
       "4         no data                                      robert whelan   \n",
       "...           ...                                                ...   \n",
       "10995726  no data  russell curry, hunter deno, kai moya, tessa ra...   \n",
       "10995727  no data                                            no data   \n",
       "10995728  no data  russell curry, hunter deno, kai moya, tessa ra...   \n",
       "10995729  no data                                            no data   \n",
       "10995730  no data  russell curry, hunter deno, kai moya, tessa ra...   \n",
       "\n",
       "                country date_added  release_year rating  \\\n",
       "0               no data        NaT          1970  pg-13   \n",
       "1               no data        NaT          1970  pg-13   \n",
       "2               no data        NaT          1970  pg-13   \n",
       "3               no data        NaT          1970  pg-13   \n",
       "4               no data        NaT          1970  pg-13   \n",
       "...                 ...        ...           ...    ...   \n",
       "10995726  united states 2021-06-15          1970   tv-g   \n",
       "10995727        no data 2021-05-14          1970   tv-g   \n",
       "10995728  united states 2021-06-15          1970   tv-g   \n",
       "10995729        no data 2021-05-14          1970   tv-g   \n",
       "10995730  united states 2021-06-15          1970   tv-g   \n",
       "\n",
       "                              listed_in  duration_int duration_type  \n",
       "0         documentary, special interest             1        season  \n",
       "1         documentary, special interest             1        season  \n",
       "2         documentary, special interest             1        season  \n",
       "3         documentary, special interest             1        season  \n",
       "4         documentary, special interest             1        season  \n",
       "...                                 ...           ...           ...  \n",
       "10995726                       kids' tv             1        season  \n",
       "10995727   black stories, documentaries           106           min  \n",
       "10995728                       kids' tv             1        season  \n",
       "10995729   black stories, documentaries           106           min  \n",
       "10995730                       kids' tv             1        season  \n",
       "\n",
       "[10995731 rows x 14 columns]"
      ]
     },
     "execution_count": 7,
     "metadata": {},
     "output_type": "execute_result"
    }
   ],
   "source": [
    "# Removed duplicate values.\n",
    "dfStreamingML = dfStreamingML.loc[~dfStreamingML.duplicated(subset=['userId', \n",
    "                                                                    'score', \n",
    "                                                                    'id', \n",
    "                                                                    'platform'])] \\\n",
    "                                                .reset_index(drop=True).copy()\n",
    "\n",
    "# Display the result.\n",
    "print('*'*40)\n",
    "print('')\n",
    "print('There are:', dfStreamingML.duplicated().sum(),'duplicate values')\n",
    "print('')\n",
    "print('*'*40)\n",
    "dfStreamingML"
   ]
  },
  {
   "attachments": {},
   "cell_type": "markdown",
   "metadata": {},
   "source": [
    "<style>\n",
    ".linea {\n",
    "  border-top: 2px solid #a78a7f;\n",
    "  height: 2px;\n",
    "  max-width: 2000px;\n",
    "  padding: 10;\n",
    "  margin: 10;\n",
    "}\n",
    "</style>\n",
    "<div class=\"linea\"></div>\n",
    "<div class=\"linea\"></div>"
   ]
  },
  {
   "attachments": {},
   "cell_type": "markdown",
   "metadata": {},
   "source": [
    "<style>\n",
    ".light-brown {\n",
    "    color: #a78a7f;\n",
    "    font-weight:700;\n",
    "    font-size: 20px;\n",
    "    text-align: top;\n",
    "    padding: 0;\n",
    "    margin: 0px;\n",
    "}\n",
    "</style>\n",
    "<p class=\"light-brown\">\n",
    "    FEATURE UNDERSTANDING\n",
    "</p>"
   ]
  },
  {
   "cell_type": "code",
   "execution_count": 8,
   "metadata": {},
   "outputs": [
    {
     "data": {
      "image/png": "[encoded data removed]",
      "text/plain": [
       "<Figure size 2000x1200 with 4 Axes>"
      ]
     },
     "metadata": {},
     "output_type": "display_data"
    }
   ],
   "source": [
    "# Created the figure and subplots.\n",
    "fig, axs = plt.subplots(nrows=2, ncols=2, figsize=(20, 12))\n",
    "\n",
    "# FIRST GRAPH: Bar graph with the TOP 10 users who contributed the most to the ratings.\n",
    "axs[0, 0].set_title('TOP 10 USER CONTRIBUTION')\n",
    "axs[0, 0].set_xlabel('AMOUNT OF RATINGS')\n",
    "axs[0, 0].set_ylabel('USER ID')\n",
    "axs[0, 0].set_facecolor('black')\n",
    "dfStreamingML['userId'].value_counts() \\\n",
    "    .sort_values(ascending=True) \\\n",
    "    .tail(10) \\\n",
    "    .plot  (kind='barh', \n",
    "            color='crimson', \n",
    "            ax=axs[0, 0])\n",
    "\n",
    "# SECOND GRAPH: Histogram with the most frequent values ​​of the scores.\n",
    "axs[0, 1].set_title('HISTOGRAM OF SCORES')\n",
    "axs[0, 1].set_xlabel('SCORES')\n",
    "axs[0, 1].set_ylabel('FREQUENCY')\n",
    "axs[0, 1].set_facecolor('black')\n",
    "dfStreamingML['score'].plot(kind='hist', \n",
    "                            bins=10, \n",
    "                            color='red', \n",
    "                            ax=axs[0, 1])\n",
    "\n",
    "# THIRD GRAPH: Bar graph with the number of titles added per year.\n",
    "axs[1, 0].set_title('NUMBER OF TITLES ADDED PER YEAR')\n",
    "axs[1, 0].set_xlabel('YEARS')\n",
    "axs[1, 0].set_ylabel('NUMBER OF TITLES')\n",
    "axs[1, 0].set_facecolor('black')\n",
    "titleCounts = dfStreamingML.groupby(dfStreamingML['date_added'].dt.year)['title'].nunique()\n",
    "titleCounts.plot   (kind='bar', \n",
    "                    color='red', \n",
    "                    ax=axs[1, 0])\n",
    "\n",
    "# FOURTH GRAPH: Percentage of Movies and Series.\n",
    "axs[1, 1].set_title('PERCENTAGE OF FILMS & SERIES')\n",
    "axs[1, 1].set_facecolor('black')\n",
    "percentageFS = dfStreamingML.groupby(\"duration_type\")['title'].count()\n",
    "labels = ['FILMS', 'SEASONS']\n",
    "colors = ['crimson', 'gray']\n",
    "explode = [0.1, 0]\n",
    "percentageFS.plot  (kind='pie', \n",
    "                    labels=labels, \n",
    "                    colors=colors, \n",
    "                    explode=explode, \n",
    "                    autopct='%1.1f%%', \n",
    "                    startangle=90, \n",
    "                    wedgeprops={'width':0.6},\n",
    "                    ax=axs[1, 1])\n",
    "axs[1, 1].legend(loc='lower right', fontsize=12)\n",
    "\n",
    "plt.tight_layout()\n",
    "plt.show()\n"
   ]
  },
  {
   "attachments": {},
   "cell_type": "markdown",
   "metadata": {},
   "source": [
    "<style>\n",
    ".linea {\n",
    "  border-top: 2px solid #a78a7f;\n",
    "  height: 2px;\n",
    "  max-width: 2000px;\n",
    "  padding: 10;\n",
    "  margin: 10;\n",
    "}\n",
    "</style>\n",
    "<div class=\"linea\"></div>\n",
    "<div class=\"linea\"></div>"
   ]
  },
  {
   "attachments": {},
   "cell_type": "markdown",
   "metadata": {},
   "source": [
    "<style>\n",
    ".light-brown {\n",
    "    color: #a78a7f;\n",
    "    font-weight:700;\n",
    "    font-size: 20px;\n",
    "    text-align: top;\n",
    "    padding: 0;\n",
    "    margin: 0px;\n",
    "}\n",
    "</style>\n",
    "<p class=\"light-brown\">\n",
    "    FEATURE RELATIONSHIPS\n",
    "</p>"
   ]
  },
  {
   "cell_type": "code",
   "execution_count": 9,
   "metadata": {},
   "outputs": [],
   "source": [
    "# Create the color palette for the graphics by platform.\n",
    "colorPlatform = {   'amazon prime': 'aqua',\n",
    "                    'disney plus': 'royalblue',\n",
    "                    'hulu': 'springgreen',\n",
    "                    'netflix': 'brown'}"
   ]
  },
  {
   "cell_type": "code",
   "execution_count": 41,
   "metadata": {},
   "outputs": [
    {
     "data": {
      "image/png": "[encoded data removed]",
      "text/plain": [
       "<Figure size 1000x600 with 1 Axes>"
      ]
     },
     "metadata": {},
     "output_type": "display_data"
    }
   ],
   "source": [
    "# I make a dataframe with the UserID and Platform columns.\n",
    "dfUserPlatform = pd.DataFrame({ 'userId': dfStreamingML['userId'], \n",
    "                                'platform': dfStreamingML['platform']})\n",
    "\n",
    "# Group the created dataframe, and count the number of occurrences.\n",
    "grouped = dfUserPlatform.groupby(['platform', 'userId']) \\\n",
    "                        .size() \\\n",
    "                        .reset_index(name='Amount of Ratings')\n",
    "\n",
    "# Regroup the result by Platform and take only the 5 with the greatest contribution.\n",
    "topUsers =   grouped.groupby('platform')['Amount of Ratings'] \\\n",
    "                    .nlargest(5)\n",
    "\n",
    "# Select only the rows corresponding to the top 5 users of each platform.\n",
    "dfTop = grouped.loc[topUsers.index.get_level_values(1)]\n",
    "\n",
    "# Create a pivot table with \"userId\" as index, \"platform\" as columns and \"Amount of Ratings\" as values.\n",
    "dfPivot = dfTop.pivot_table(index='userId', \n",
    "                            columns='platform', \n",
    "                            values='Amount of Ratings', \n",
    "                            fill_value=0)\n",
    "\n",
    "# Sort the pivot table rows by the total number of contributions from each user.\n",
    "userSum =  dfTop.groupby('userId')['Amount of Ratings'] \\\n",
    "                .sum() \\\n",
    "                .sort_values(ascending=False)\n",
    "dfPivot = dfPivot.reindex(index=userSum.index)\n",
    "\n",
    "# BAR GRAPH: WITH THE 5 USERS THAT MADE THE GREATEST CONTRIBUTION ON EACH PLATFORM.\n",
    "ax1 = dfPivot.plot( kind='barh',\n",
    "                    stacked=False,\n",
    "                    title='TOP 5 USER CONTRIBUTION BY PLATFORM',\n",
    "                    color=colorPlatform,\n",
    "                    figsize=(10, 6))\n",
    "ax1.set_xlabel('USER ID')\n",
    "ax1.set_ylabel('CONTRIBUTION')\n",
    "plt.show()\n"
   ]
  },
  {
   "cell_type": "code",
   "execution_count": 40,
   "metadata": {},
   "outputs": [
    {
     "data": {
      "image/png": "[encoded data removed]",
      "text/plain": [
       "<Figure size 1000x600 with 1 Axes>"
      ]
     },
     "metadata": {},
     "output_type": "display_data"
    }
   ],
   "source": [
    "# Group the data by the year of release and the platform. And counted the number of unique movies added in each year.\n",
    "titleAddeds =  dfStreamingML.groupby([dfStreamingML['date_added'].dt.year, 'platform'])['title'] \\\n",
    "                            .nunique() \\\n",
    "                            .unstack() \\\n",
    "                            .fillna(0)\n",
    "\n",
    "# LINE GRAPH: TITLES ADDED TO THE PLATFORMS IN EACH YEAR.\n",
    "ax2 = titleAddeds.plot( kind= 'line', \n",
    "                        marker='o', \n",
    "                        color= colorPlatform,\n",
    "                        title= 'NUMBER OF TITLES ADDED BY YEAR AND PLATFORM',\n",
    "                        figsize=(10, 6))\n",
    "ax2.set_xlabel('Year')\n",
    "ax2.set_ylabel('Number of Titles')\n",
    "plt.show()"
   ]
  },
  {
   "cell_type": "code",
   "execution_count": 42,
   "metadata": {},
   "outputs": [
    {
     "data": {
      "image/png": "[encoded data removed]",
      "text/plain": [
       "<Figure size 1000x600 with 1 Axes>"
      ]
     },
     "metadata": {},
     "output_type": "display_data"
    }
   ],
   "source": [
    "# I group the data, to count the titles of each platform and see which are Movies or TvShow\n",
    "grouped =  dfStreamingML.groupby(['platform', 'duration_type'])['title'] \\\n",
    "                        .count() \\\n",
    "                        .unstack()\n",
    "\n",
    "# Order the rows by the sum of the values ​​of the columns in descending order.\n",
    "grouped = grouped.loc[grouped.sum(axis=1).sort_values(ascending=False).index]\n",
    "\n",
    "# Calculate the percentage of each value in the rows.\n",
    "grouped = grouped.apply(lambda x: x / x.sum() * 100, axis=1)\n",
    "\n",
    "# STACKED BAR CHART: WITH THE PERCENTAGE OF FILMS AND SERIES BY PLATFORM.\n",
    "ax3 = grouped.plot(     kind='bar', \n",
    "                        stacked=True, \n",
    "                        width=0.7, \n",
    "                        color=['crimson', 'gray'],\n",
    "                        title= 'PERCENTAGE OF FILMS AND SERIES',\n",
    "                        figsize=(10, 6))\n",
    "ax3.set_xlabel('PLATFORM')\n",
    "ax3.legend( labels=['PELÍCULAS', 'TEMPORADAS'], \n",
    "            loc='lower left')\n",
    "\n",
    "# Add value labels to each bar.\n",
    "for i, platform in enumerate(grouped.index):\n",
    "    offset = 0\n",
    "    for j, duration_type in enumerate(grouped.columns):\n",
    "        value = grouped.loc[platform, duration_type]\n",
    "        ax3.text(i, offset + value/2, f'{value:.1f}%', \n",
    "                ha='center', \n",
    "                va='center', \n",
    "                fontsize=12)\n",
    "        offset += value\n",
    "plt.show()"
   ]
  },
  {
   "cell_type": "code",
   "execution_count": 43,
   "metadata": {},
   "outputs": [
    {
     "data": {
      "application/vnd.plotly.v1+json": {
       "config": {
        "plotlyServerURL": "https://plot.ly"
       },
       "data": [
        {
         "alignmentgroup": "True",
         "hovertemplate": "TITLE=thalaivii (telugu)<br>PLATFORM=%{x}<br>AVERAGE=%{y}<extra></extra>",
         "legendgroup": "thalaivii (telugu)",
         "marker": {
          "color": "aqua",
          "pattern": {
           "shape": ""
          }
         },
         "name": "thalaivii (telugu)",
         "offsetgroup": "thalaivii (telugu)",
         "orientation": "v",
         "showlegend": true,
         "textposition": "auto",
         "type": "bar",
         "x": [
          "amazon prime"
         ],
         "xaxis": "x",
         "y": [
          3.723913043478261
         ],
         "yaxis": "y"
        },
        {
         "alignmentgroup": "True",
         "hovertemplate": "TITLE=mark twain and me<br>PLATFORM=%{x}<br>AVERAGE=%{y}<extra></extra>",
         "legendgroup": "mark twain and me",
         "marker": {
          "color": "royalblue",
          "pattern": {
           "shape": ""
          }
         },
         "name": "mark twain and me",
         "offsetgroup": "mark twain and me",
         "orientation": "v",
         "showlegend": true,
         "textposition": "auto",
         "type": "bar",
         "x": [
          "disney plus"
         ],
         "xaxis": "x",
         "y": [
          3.6912087912087914
         ],
         "yaxis": "y"
        },
        {
         "alignmentgroup": "True",
         "hovertemplate": "TITLE=(sub) sword art online: the movie - ordinal scale<br>PLATFORM=%{x}<br>AVERAGE=%{y}<extra></extra>",
         "legendgroup": "(sub) sword art online: the movie - ordinal scale",
         "marker": {
          "color": "springgreen",
          "pattern": {
           "shape": ""
          }
         },
         "name": "(sub) sword art online: the movie - ordinal scale",
         "offsetgroup": "(sub) sword art online: the movie - ordinal scale",
         "orientation": "v",
         "showlegend": true,
         "textposition": "auto",
         "type": "bar",
         "x": [
          "hulu"
         ],
         "xaxis": "x",
         "y": [
          3.6792656587473003
         ],
         "yaxis": "y"
        },
        {
         "alignmentgroup": "True",
         "hovertemplate": "TITLE=space jungle<br>PLATFORM=%{x}<br>AVERAGE=%{y}<extra></extra>",
         "legendgroup": "space jungle",
         "marker": {
          "color": "brown",
          "pattern": {
           "shape": ""
          }
         },
         "name": "space jungle",
         "offsetgroup": "space jungle",
         "orientation": "v",
         "showlegend": true,
         "textposition": "auto",
         "type": "bar",
         "x": [
          "netflix"
         ],
         "xaxis": "x",
         "y": [
          3.709278350515464
         ],
         "yaxis": "y"
        }
       ],
       "layout": {
        "barmode": "relative",
        "legend": {
         "title": {
          "text": "TITLE"
         },
         "tracegroupgap": 0
        },
        "template": {
         "data": {
          "bar": [
           {
            "error_x": {
             "color": "#f2f5fa"
            },
            "error_y": {
             "color": "#f2f5fa"
            },
            "marker": {
             "line": {
              "color": "rgb(17,17,17)",
              "width": 0.5
             },
             "pattern": {
              "fillmode": "overlay",
              "size": 10,
              "solidity": 0.2
             }
            },
            "type": "bar"
           }
          ],
          "barpolar": [
           {
            "marker": {
             "line": {
              "color": "rgb(17,17,17)",
              "width": 0.5
             },
             "pattern": {
              "fillmode": "overlay",
              "size": 10,
              "solidity": 0.2
             }
            },
            "type": "barpolar"
           }
          ],
          "carpet": [
           {
            "aaxis": {
             "endlinecolor": "#A2B1C6",
             "gridcolor": "#506784",
             "linecolor": "#506784",
             "minorgridcolor": "#506784",
             "startlinecolor": "#A2B1C6"
            },
            "baxis": {
             "endlinecolor": "#A2B1C6",
             "gridcolor": "#506784",
             "linecolor": "#506784",
             "minorgridcolor": "#506784",
             "startlinecolor": "#A2B1C6"
            },
            "type": "carpet"
           }
          ],
          "choropleth": [
           {
            "colorbar": {
             "outlinewidth": 0,
             "ticks": ""
            },
            "type": "choropleth"
           }
          ],
          "contour": [
           {
            "colorbar": {
             "outlinewidth": 0,
             "ticks": ""
            },
            "colorscale": [
             [
              0,
              "#0d0887"
             ],
             [
              0.1111111111111111,
              "#46039f"
             ],
             [
              0.2222222222222222,
              "#7201a8"
             ],
             [
              0.3333333333333333,
              "#9c179e"
             ],
             [
              0.4444444444444444,
              "#bd3786"
             ],
             [
              0.5555555555555556,
              "#d8576b"
             ],
             [
              0.6666666666666666,
              "#ed7953"
             ],
             [
              0.7777777777777778,
              "#fb9f3a"
             ],
             [
              0.8888888888888888,
              "#fdca26"
             ],
             [
              1,
              "#f0f921"
             ]
            ],
            "type": "contour"
           }
          ],
          "contourcarpet": [
           {
            "colorbar": {
             "outlinewidth": 0,
             "ticks": ""
            },
            "type": "contourcarpet"
           }
          ],
          "heatmap": [
           {
            "colorbar": {
             "outlinewidth": 0,
             "ticks": ""
            },
            "colorscale": [
             [
              0,
              "#0d0887"
             ],
             [
              0.1111111111111111,
              "#46039f"
             ],
             [
              0.2222222222222222,
              "#7201a8"
             ],
             [
              0.3333333333333333,
              "#9c179e"
             ],
             [
              0.4444444444444444,
              "#bd3786"
             ],
             [
              0.5555555555555556,
              "#d8576b"
             ],
             [
              0.6666666666666666,
              "#ed7953"
             ],
             [
              0.7777777777777778,
              "#fb9f3a"
             ],
             [
              0.8888888888888888,
              "#fdca26"
             ],
             [
              1,
              "#f0f921"
             ]
            ],
            "type": "heatmap"
           }
          ],
          "heatmapgl": [
           {
            "colorbar": {
             "outlinewidth": 0,
             "ticks": ""
            },
            "colorscale": [
             [
              0,
              "#0d0887"
             ],
             [
              0.1111111111111111,
              "#46039f"
             ],
             [
              0.2222222222222222,
              "#7201a8"
             ],
             [
              0.3333333333333333,
              "#9c179e"
             ],
             [
              0.4444444444444444,
              "#bd3786"
             ],
             [
              0.5555555555555556,
              "#d8576b"
             ],
             [
              0.6666666666666666,
              "#ed7953"
             ],
             [
              0.7777777777777778,
              "#fb9f3a"
             ],
             [
              0.8888888888888888,
              "#fdca26"
             ],
             [
              1,
              "#f0f921"
             ]
            ],
            "type": "heatmapgl"
           }
          ],
          "histogram": [
           {
            "marker": {
             "pattern": {
              "fillmode": "overlay",
              "size": 10,
              "solidity": 0.2
             }
            },
            "type": "histogram"
           }
          ],
          "histogram2d": [
           {
            "colorbar": {
             "outlinewidth": 0,
             "ticks": ""
            },
            "colorscale": [
             [
              0,
              "#0d0887"
             ],
             [
              0.1111111111111111,
              "#46039f"
             ],
             [
              0.2222222222222222,
              "#7201a8"
             ],
             [
              0.3333333333333333,
              "#9c179e"
             ],
             [
              0.4444444444444444,
              "#bd3786"
             ],
             [
              0.5555555555555556,
              "#d8576b"
             ],
             [
              0.6666666666666666,
              "#ed7953"
             ],
             [
              0.7777777777777778,
              "#fb9f3a"
             ],
             [
              0.8888888888888888,
              "#fdca26"
             ],
             [
              1,
              "#f0f921"
             ]
            ],
            "type": "histogram2d"
           }
          ],
          "histogram2dcontour": [
           {
            "colorbar": {
             "outlinewidth": 0,
             "ticks": ""
            },
            "colorscale": [
             [
              0,
              "#0d0887"
             ],
             [
              0.1111111111111111,
              "#46039f"
             ],
             [
              0.2222222222222222,
              "#7201a8"
             ],
             [
              0.3333333333333333,
              "#9c179e"
             ],
             [
              0.4444444444444444,
              "#bd3786"
             ],
             [
              0.5555555555555556,
              "#d8576b"
             ],
             [
              0.6666666666666666,
              "#ed7953"
             ],
             [
              0.7777777777777778,
              "#fb9f3a"
             ],
             [
              0.8888888888888888,
              "#fdca26"
             ],
             [
              1,
              "#f0f921"
             ]
            ],
            "type": "histogram2dcontour"
           }
          ],
          "mesh3d": [
           {
            "colorbar": {
             "outlinewidth": 0,
             "ticks": ""
            },
            "type": "mesh3d"
           }
          ],
          "parcoords": [
           {
            "line": {
             "colorbar": {
              "outlinewidth": 0,
              "ticks": ""
             }
            },
            "type": "parcoords"
           }
          ],
          "pie": [
           {
            "automargin": true,
            "type": "pie"
           }
          ],
          "scatter": [
           {
            "marker": {
             "line": {
              "color": "#283442"
             }
            },
            "type": "scatter"
           }
          ],
          "scatter3d": [
           {
            "line": {
             "colorbar": {
              "outlinewidth": 0,
              "ticks": ""
             }
            },
            "marker": {
             "colorbar": {
              "outlinewidth": 0,
              "ticks": ""
             }
            },
            "type": "scatter3d"
           }
          ],
          "scattercarpet": [
           {
            "marker": {
             "colorbar": {
              "outlinewidth": 0,
              "ticks": ""
             }
            },
            "type": "scattercarpet"
           }
          ],
          "scattergeo": [
           {
            "marker": {
             "colorbar": {
              "outlinewidth": 0,
              "ticks": ""
             }
            },
            "type": "scattergeo"
           }
          ],
          "scattergl": [
           {
            "marker": {
             "line": {
              "color": "#283442"
             }
            },
            "type": "scattergl"
           }
          ],
          "scattermapbox": [
           {
            "marker": {
             "colorbar": {
              "outlinewidth": 0,
              "ticks": ""
             }
            },
            "type": "scattermapbox"
           }
          ],
          "scatterpolar": [
           {
            "marker": {
             "colorbar": {
              "outlinewidth": 0,
              "ticks": ""
             }
            },
            "type": "scatterpolar"
           }
          ],
          "scatterpolargl": [
           {
            "marker": {
             "colorbar": {
              "outlinewidth": 0,
              "ticks": ""
             }
            },
            "type": "scatterpolargl"
           }
          ],
          "scatterternary": [
           {
            "marker": {
             "colorbar": {
              "outlinewidth": 0,
              "ticks": ""
             }
            },
            "type": "scatterternary"
           }
          ],
          "surface": [
           {
            "colorbar": {
             "outlinewidth": 0,
             "ticks": ""
            },
            "colorscale": [
             [
              0,
              "#0d0887"
             ],
             [
              0.1111111111111111,
              "#46039f"
             ],
             [
              0.2222222222222222,
              "#7201a8"
             ],
             [
              0.3333333333333333,
              "#9c179e"
             ],
             [
              0.4444444444444444,
              "#bd3786"
             ],
             [
              0.5555555555555556,
              "#d8576b"
             ],
             [
              0.6666666666666666,
              "#ed7953"
             ],
             [
              0.7777777777777778,
              "#fb9f3a"
             ],
             [
              0.8888888888888888,
              "#fdca26"
             ],
             [
              1,
              "#f0f921"
             ]
            ],
            "type": "surface"
           }
          ],
          "table": [
           {
            "cells": {
             "fill": {
              "color": "#506784"
             },
             "line": {
              "color": "rgb(17,17,17)"
             }
            },
            "header": {
             "fill": {
              "color": "#2a3f5f"
             },
             "line": {
              "color": "rgb(17,17,17)"
             }
            },
            "type": "table"
           }
          ]
         },
         "layout": {
          "annotationdefaults": {
           "arrowcolor": "#f2f5fa",
           "arrowhead": 0,
           "arrowwidth": 1
          },
          "autotypenumbers": "strict",
          "coloraxis": {
           "colorbar": {
            "outlinewidth": 0,
            "ticks": ""
           }
          },
          "colorscale": {
           "diverging": [
            [
             0,
             "#8e0152"
            ],
            [
             0.1,
             "#c51b7d"
            ],
            [
             0.2,
             "#de77ae"
            ],
            [
             0.3,
             "#f1b6da"
            ],
            [
             0.4,
             "#fde0ef"
            ],
            [
             0.5,
             "#f7f7f7"
            ],
            [
             0.6,
             "#e6f5d0"
            ],
            [
             0.7,
             "#b8e186"
            ],
            [
             0.8,
             "#7fbc41"
            ],
            [
             0.9,
             "#4d9221"
            ],
            [
             1,
             "#276419"
            ]
           ],
           "sequential": [
            [
             0,
             "#0d0887"
            ],
            [
             0.1111111111111111,
             "#46039f"
            ],
            [
             0.2222222222222222,
             "#7201a8"
            ],
            [
             0.3333333333333333,
             "#9c179e"
            ],
            [
             0.4444444444444444,
             "#bd3786"
            ],
            [
             0.5555555555555556,
             "#d8576b"
            ],
            [
             0.6666666666666666,
             "#ed7953"
            ],
            [
             0.7777777777777778,
             "#fb9f3a"
            ],
            [
             0.8888888888888888,
             "#fdca26"
            ],
            [
             1,
             "#f0f921"
            ]
           ],
           "sequentialminus": [
            [
             0,
             "#0d0887"
            ],
            [
             0.1111111111111111,
             "#46039f"
            ],
            [
             0.2222222222222222,
             "#7201a8"
            ],
            [
             0.3333333333333333,
             "#9c179e"
            ],
            [
             0.4444444444444444,
             "#bd3786"
            ],
            [
             0.5555555555555556,
             "#d8576b"
            ],
            [
             0.6666666666666666,
             "#ed7953"
            ],
            [
             0.7777777777777778,
             "#fb9f3a"
            ],
            [
             0.8888888888888888,
             "#fdca26"
            ],
            [
             1,
             "#f0f921"
            ]
           ]
          },
          "colorway": [
           "#636efa",
           "#EF553B",
           "#00cc96",
           "#ab63fa",
           "#FFA15A",
           "#19d3f3",
           "#FF6692",
           "#B6E880",
           "#FF97FF",
           "#FECB52"
          ],
          "font": {
           "color": "#f2f5fa"
          },
          "geo": {
           "bgcolor": "rgb(17,17,17)",
           "lakecolor": "rgb(17,17,17)",
           "landcolor": "rgb(17,17,17)",
           "showlakes": true,
           "showland": true,
           "subunitcolor": "#506784"
          },
          "hoverlabel": {
           "align": "left"
          },
          "hovermode": "closest",
          "mapbox": {
           "style": "dark"
          },
          "paper_bgcolor": "rgb(17,17,17)",
          "plot_bgcolor": "rgb(17,17,17)",
          "polar": {
           "angularaxis": {
            "gridcolor": "#506784",
            "linecolor": "#506784",
            "ticks": ""
           },
           "bgcolor": "rgb(17,17,17)",
           "radialaxis": {
            "gridcolor": "#506784",
            "linecolor": "#506784",
            "ticks": ""
           }
          },
          "scene": {
           "xaxis": {
            "backgroundcolor": "rgb(17,17,17)",
            "gridcolor": "#506784",
            "gridwidth": 2,
            "linecolor": "#506784",
            "showbackground": true,
            "ticks": "",
            "zerolinecolor": "#C8D4E3"
           },
           "yaxis": {
            "backgroundcolor": "rgb(17,17,17)",
            "gridcolor": "#506784",
            "gridwidth": 2,
            "linecolor": "#506784",
            "showbackground": true,
            "ticks": "",
            "zerolinecolor": "#C8D4E3"
           },
           "zaxis": {
            "backgroundcolor": "rgb(17,17,17)",
            "gridcolor": "#506784",
            "gridwidth": 2,
            "linecolor": "#506784",
            "showbackground": true,
            "ticks": "",
            "zerolinecolor": "#C8D4E3"
           }
          },
          "shapedefaults": {
           "line": {
            "color": "#f2f5fa"
           }
          },
          "sliderdefaults": {
           "bgcolor": "#C8D4E3",
           "bordercolor": "rgb(17,17,17)",
           "borderwidth": 1,
           "tickwidth": 0
          },
          "ternary": {
           "aaxis": {
            "gridcolor": "#506784",
            "linecolor": "#506784",
            "ticks": ""
           },
           "baxis": {
            "gridcolor": "#506784",
            "linecolor": "#506784",
            "ticks": ""
           },
           "bgcolor": "rgb(17,17,17)",
           "caxis": {
            "gridcolor": "#506784",
            "linecolor": "#506784",
            "ticks": ""
           }
          },
          "title": {
           "x": 0.05
          },
          "updatemenudefaults": {
           "bgcolor": "#506784",
           "borderwidth": 0
          },
          "xaxis": {
           "automargin": true,
           "gridcolor": "#283442",
           "linecolor": "#506784",
           "ticks": "",
           "title": {
            "standoff": 15
           },
           "zerolinecolor": "#283442",
           "zerolinewidth": 2
          },
          "yaxis": {
           "automargin": true,
           "gridcolor": "#283442",
           "linecolor": "#506784",
           "ticks": "",
           "title": {
            "standoff": 15
           },
           "zerolinecolor": "#283442",
           "zerolinewidth": 2
          }
         }
        },
        "title": {
         "text": "TITLE WITH THE HIGHEST AVERAGE SCORE BY PLATFORM"
        },
        "xaxis": {
         "anchor": "y",
         "domain": [
          0,
          1
         ],
         "title": {
          "text": "PLATFORM"
         }
        },
        "yaxis": {
         "anchor": "x",
         "domain": [
          0,
          1
         ],
         "title": {
          "text": "AVERAGE"
         }
        }
       }
      }
     },
     "metadata": {},
     "output_type": "display_data"
    }
   ],
   "source": [
    "# Calculate the average score by title and platform.\n",
    "dfAvgScore = dfStreamingML.groupby(['platform', 'title'])['score'].mean().reset_index()\n",
    "\n",
    "# Find the title with the highest average score by platform.\n",
    "idx = dfAvgScore.groupby(['platform'])['score'].transform(max) == dfAvgScore['score']\n",
    "dfMaxScore = dfAvgScore[idx]\n",
    "\n",
    "# Created the KPI cards using plotly\n",
    "fig2 = px.bar(dfMaxScore,   x='platform', \n",
    "                            y='score', \n",
    "                            color='title',\n",
    "                            title='TITLE WITH THE HIGHEST AVERAGE SCORE BY PLATFORM',\n",
    "                            labels={'platform': 'PLATFORM', 'score': 'AVERAGE', 'title': 'TITLE'},\n",
    "                            color_discrete_sequence=[colorPlatform[p] for p in dfMaxScore['platform']])\n",
    "\n",
    "# Change the background to black for the graph.\n",
    "fig2.update_layout(template=\"plotly_dark\")\n",
    "pio.templates.default = \"plotly_dark\"\n",
    "fig2.show()\n"
   ]
  },
  {
   "attachments": {},
   "cell_type": "markdown",
   "metadata": {},
   "source": [
    "<style>\n",
    ".light-brown {\n",
    "    color: #463f3a;\n",
    "    font-weight:700;\n",
    "    font-size: 20px;\n",
    "    vertical-align: middle;\n",
    "    text-align: right;\n",
    "    padding: 0px;\n",
    "    margin: 0px 0px 20px 0px;\n",
    "}\n",
    "</style>\n",
    "<style>\n",
    ".linea {\n",
    "  border-top: 0.5px solid #463f3a;\n",
    "  height: 1px;\n",
    "  max-width: 2000px;\n",
    "  padding: 0;\n",
    "  margin: 0;\n",
    "}\n",
    "</style>\n",
    "<div class=\"linea\"></div>\n",
    "<p class=\"light-brown\">\n",
    "    Project carried out by Daniele, Emiliano Gastón.<br>\n",
    "    Thanks for your time!\n",
    "</p>\n",
    "<div class=\"linea\"></div>\n",
    "<div class=\"linea\"></div>"
   ]
  }
 ],
 "metadata": {
  "kernelspec": {
   "display_name": "Python 3",
   "language": "python",
   "name": "python3"
  },
  "language_info": {
   "codemirror_mode": {
    "name": "ipython",
    "version": 3
   },
   "file_extension": ".py",
   "mimetype": "text/x-python",
   "name": "python",
   "nbconvert_exporter": "python",
   "pygments_lexer": "ipython3",
   "version": "3.10.10"
  },
  "orig_nbformat": 4
 },
 "nbformat": 4,
 "nbformat_minor": 2
}
